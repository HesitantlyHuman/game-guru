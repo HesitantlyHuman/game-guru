{
 "cells": [
  {
   "cell_type": "code",
   "execution_count": 2,
   "metadata": {},
   "outputs": [],
   "source": [
    "TARGET = 13"
   ]
  },
  {
   "cell_type": "code",
   "execution_count": 3,
   "metadata": {},
   "outputs": [],
   "source": [
    "lookup_table = {}\n",
    "lookup_hits = 0\n",
    "lookup_misses = 0\n",
    "\n",
    "def check_if_possible(target: int, numbers: list, expressions: list, allowed_operations: list):\n",
    "    global lookup_table, lookup_hits, lookup_misses\n",
    "\n",
    "    hash_copy = numbers.copy()\n",
    "    hash_copy.sort()\n",
    "    hash_copy = hash_copy + [target]\n",
    "    lookup_value = tuple(hash_copy)\n",
    "    if lookup_value in lookup_table:\n",
    "        lookup_hits += 1\n",
    "        return lookup_table[lookup_value]\n",
    "    else:\n",
    "        lookup_misses += 1\n",
    "\n",
    "    if len(numbers) == 1:\n",
    "        result = numbers[0] == target\n",
    "        lookup_table[lookup_value] = result, expressions[0]\n",
    "        return result, expressions[0]\n",
    "    elif len(numbers) == 0:\n",
    "        raise ValueError(\"Must have at least one value in numbers\")\n",
    "\n",
    "    for number_one_idx, number_one in enumerate(numbers):\n",
    "        for number_two_idx, number_two in enumerate(numbers):\n",
    "            if number_one_idx == number_two_idx:\n",
    "                continue\n",
    "            expression_one = expressions[number_one_idx]\n",
    "            expression_two = expressions[number_two_idx]\n",
    "\n",
    "            # Remove the selected numbers which we are operating with\n",
    "            remaining_numbers = numbers.copy()\n",
    "            remaining_expressions = expressions.copy()\n",
    "            indices_to_remove = [number_one_idx, number_two_idx]\n",
    "            indices_to_remove.sort(reverse=True)\n",
    "            for index in indices_to_remove:\n",
    "                remaining_numbers.pop(index)\n",
    "                remaining_expressions.pop(index)\n",
    "            \n",
    "            # Perform the operations\n",
    "            for operation in allowed_operations:\n",
    "                new_numbers = remaining_numbers.copy()\n",
    "                new_expressions = remaining_expressions.copy()\n",
    "                if operation == \"+\":\n",
    "                    new_value = number_one + number_two\n",
    "                elif operation == \"-\":\n",
    "                    new_value = number_one - number_two\n",
    "                elif operation == \"*\":\n",
    "                    new_value = number_one * number_two\n",
    "                elif operation == \"/\":\n",
    "                    if number_two == 0:\n",
    "                        continue\n",
    "                    new_value = float(number_one / number_two)\n",
    "                    if not new_value.is_integer():\n",
    "                        continue\n",
    "                    else:\n",
    "                        new_value = int(new_value)\n",
    "                elif operation == \"^\":\n",
    "                    if number_one <= 0 and number_two < 0:\n",
    "                        continue\n",
    "                    new_value = number_one ** number_two\n",
    "                elif operation == \"><\":\n",
    "                    shift = 10 ** len(str(number_two))\n",
    "                    new_value = (number_one * shift) + number_two\n",
    "\n",
    "                if new_value > 100_000:\n",
    "                    continue\n",
    "\n",
    "                new_numbers.append(new_value)\n",
    "                new_expressions.append(f\"({expression_one} {operation} {expression_two})\")\n",
    "\n",
    "                assert (len(numbers) - 1) == len(new_numbers), f'Len of new numbers {len(new_numbers)} is not one less than len of numbers {len(numbers)}'\n",
    "                possible, expression = check_if_possible(target, new_numbers, new_expressions, allowed_operations)\n",
    "                if possible:\n",
    "                    lookup_table[lookup_value] = True, expression\n",
    "                    return True, expression\n",
    "                \n",
    "    lookup_table[lookup_value] = False, None\n",
    "    return False, None"
   ]
  },
  {
   "cell_type": "code",
   "execution_count": 4,
   "metadata": {},
   "outputs": [
    {
     "data": {
      "text/plain": [
       "(True, '((6 + 6) + (4 / 4))')"
      ]
     },
     "execution_count": 4,
     "metadata": {},
     "output_type": "execute_result"
    }
   ],
   "source": [
    "numbers = [6, 6, 4, 4]\n",
    "check_if_possible(TARGET, numbers, numbers, [\"+\", \"-\", \"*\", \"/\", \"^\", \"><\"])"
   ]
  },
  {
   "cell_type": "code",
   "execution_count": 5,
   "metadata": {},
   "outputs": [
    {
     "name": "stdout",
     "output_type": "stream",
     "text": [
      "495\n"
     ]
    }
   ],
   "source": [
    "all_groups_of_four_digits = []\n",
    "for a in range(9):\n",
    "    for b in range(9):\n",
    "        for c in range(9):\n",
    "            for d in range(9):\n",
    "                digits = [a + 1, b + 1, c + 1, d + 1]\n",
    "                digits.sort()\n",
    "                digits = tuple(digits)\n",
    "                all_groups_of_four_digits.append(digits)\n",
    "\n",
    "all_groups_of_four_digits = list(set(all_groups_of_four_digits))\n",
    "print(len(all_groups_of_four_digits))"
   ]
  },
  {
   "cell_type": "code",
   "execution_count": 6,
   "metadata": {},
   "outputs": [],
   "source": [
    "percentages = {}\n",
    "for target_val in range(1, 100):\n",
    "    total_possible = 0\n",
    "    methods = {}\n",
    "    for group_of_digits in all_groups_of_four_digits:\n",
    "        lookup_table = {}\n",
    "        lookup_hits = 0\n",
    "        lookup_misses = 0\n",
    "\n",
    "        list_of_digits = list(group_of_digits)\n",
    "        expressions = list_of_digits.copy()\n",
    "        possible, method = check_if_possible(target_val, list_of_digits, list_of_digits, [\"+\", \"-\", \"*\", \"/\", \"^\", \"><\"])\n",
    "        methods[group_of_digits] = method\n",
    "        if possible:\n",
    "            total_possible += 1\n",
    "\n",
    "    percentages[target_val] = total_possible / len(all_groups_of_four_digits)\n"
   ]
  },
  {
   "cell_type": "code",
   "execution_count": 7,
   "metadata": {},
   "outputs": [
    {
     "name": "stdout",
     "output_type": "stream",
     "text": [
      "{1: 1.0, 2: 1.0, 3: 0.9858585858585859, 4: 0.9777777777777777, 5: 0.9717171717171718, 6: 0.98989898989899, 7: 0.9878787878787879, 8: 0.9939393939393939, 9: 0.9919191919191919, 10: 0.9919191919191919, 11: 0.9656565656565657, 12: 0.9616161616161616, 13: 0.9313131313131313, 14: 0.9414141414141414, 15: 0.9636363636363636, 16: 0.9757575757575757, 17: 0.9191919191919192, 18: 0.9595959595959596, 19: 0.8929292929292929, 20: 0.9090909090909091, 21: 0.9373737373737374, 22: 0.8525252525252526, 23: 0.8484848484848485, 24: 0.9353535353535354, 25: 0.8646464646464647, 26: 0.8626262626262626, 27: 0.8787878787878788, 28: 0.898989898989899, 29: 0.8121212121212121, 30: 0.8727272727272727, 31: 0.8525252525252526, 32: 0.8808080808080808, 33: 0.7636363636363637, 34: 0.8101010101010101, 35: 0.8404040404040404, 36: 0.9212121212121213, 37: 0.793939393939394, 38: 0.7797979797979798, 39: 0.7757575757575758, 40: 0.8303030303030303, 41: 0.8565656565656565, 42: 0.8606060606060606, 43: 0.7393939393939394, 44: 0.7575757575757576, 45: 0.797979797979798, 46: 0.7838383838383839, 47: 0.7272727272727273, 48: 0.896969696969697, 49: 0.8464646464646465, 50: 0.7555555555555555, 51: 0.8101010101010101, 52: 0.7595959595959596, 53: 0.7171717171717171, 54: 0.8727272727272727, 55: 0.7313131313131314, 56: 0.8646464646464647, 57: 0.7717171717171717, 58: 0.7414141414141414, 59: 0.694949494949495, 60: 0.8343434343434344, 61: 0.8222222222222222, 62: 0.7232323232323232, 63: 0.8565656565656565, 64: 0.9494949494949495, 65: 0.7898989898989899, 66: 0.7313131313131314, 67: 0.6848484848484848, 68: 0.7454545454545455, 69: 0.7454545454545455, 70: 0.7898989898989899, 71: 0.7494949494949495, 72: 0.8606060606060606, 73: 0.7292929292929293, 74: 0.7131313131313132, 75: 0.7171717171717171, 76: 0.7454545454545455, 77: 0.6606060606060606, 78: 0.7656565656565657, 79: 0.6787878787878788, 80: 0.8282828282828283, 81: 0.9111111111111111, 82: 0.7272727272727273, 83: 0.6707070707070707, 84: 0.8303030303030303, 85: 0.6848484848484848, 86: 0.7171717171717171, 87: 0.701010101010101, 88: 0.703030303030303, 89: 0.6484848484848484, 90: 0.804040404040404, 91: 0.7919191919191919, 92: 0.7131313131313132, 93: 0.6646464646464646, 94: 0.6646464646464646, 95: 0.6525252525252525, 96: 0.8505050505050505, 97: 0.705050505050505, 98: 0.8262626262626263, 99: 0.7595959595959596}\n"
     ]
    }
   ],
   "source": [
    "print(percentages)"
   ]
  },
  {
   "cell_type": "code",
   "execution_count": 8,
   "metadata": {},
   "outputs": [
    {
     "name": "stdout",
     "output_type": "stream",
     "text": [
      "((7 - 6) >< (4 - 5))\n"
     ]
    }
   ],
   "source": [
    "digits = [4, 5, 6, 7]\n",
    "digits.sort()\n",
    "digits = tuple(digits)\n",
    "print(methods[digits])"
   ]
  }
 ],
 "metadata": {
  "kernelspec": {
   "display_name": "word-games",
   "language": "python",
   "name": "python3"
  },
  "language_info": {
   "codemirror_mode": {
    "name": "ipython",
    "version": 3
   },
   "file_extension": ".py",
   "mimetype": "text/x-python",
   "name": "python",
   "nbconvert_exporter": "python",
   "pygments_lexer": "ipython3",
   "version": "3.9.7"
  },
  "orig_nbformat": 4
 },
 "nbformat": 4,
 "nbformat_minor": 2
}
